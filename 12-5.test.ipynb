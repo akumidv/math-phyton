{
 "cells": [
  {
   "cell_type": "code",
   "execution_count": 24,
   "metadata": {},
   "outputs": [],
   "source": [
    "## Задача. Предположим, что вы получаете в среднем три спам-письма в день. \n",
    "# Какова доля дней, в которые вы не получаете ни одного спам-письма? Округлите до двух знаков после десятичной точки.\n",
    "\n",
    "# Решение. Эта функция является Распределением Пуасона - вероятностное распределение дискретного типа, \n",
    "# моделирует случайную величину, представляющую собой число событий, произошедших за фиксированное время, \n",
    "# при условии, что данные события происходят с некоторой фиксированной средней интенсивностью и независимо друг от друга.\n",
    "\n",
    "# Для него матожидание, дисперсия, равныы лямбда\n",
    "\n",
    "# Распределение Пуасона p(k) = l**k/ k! * e** -l\n"
   ]
  },
  {
   "cell_type": "code",
   "execution_count": 25,
   "metadata": {},
   "outputs": [
    {
     "name": "stdout",
     "output_type": "stream",
     "text": [
      "p(3) 0.0497870683679 0.05\n"
     ]
    }
   ],
   "source": [
    "import math\n",
    "l = 3\n",
    "k = 0\n",
    "p1 = l ** k / math.factorial(k)\n",
    "p2 = math.exp(-l)\n",
    "print 'p(3)', p1 * p2, round(p1 * p2, 2)"
   ]
  },
  {
   "cell_type": "code",
   "execution_count": null,
   "metadata": {},
   "outputs": [],
   "source": []
  }
 ],
 "metadata": {
  "kernelspec": {
   "display_name": "Python 2",
   "language": "python",
   "name": "python2"
  },
  "language_info": {
   "codemirror_mode": {
    "name": "ipython",
    "version": 2
   },
   "file_extension": ".py",
   "mimetype": "text/x-python",
   "name": "python",
   "nbconvert_exporter": "python",
   "pygments_lexer": "ipython2",
   "version": "2.7.15"
  }
 },
 "nbformat": 4,
 "nbformat_minor": 2
}
