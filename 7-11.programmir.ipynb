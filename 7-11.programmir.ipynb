{
 "cells": [
  {
   "cell_type": "markdown",
   "metadata": {},
   "source": [
    "# Линейная алгебра: сходство текстов и аппроксимация функций"
   ]
  },
  {
   "cell_type": "code",
   "execution_count": 79,
   "metadata": {},
   "outputs": [],
   "source": [
    "# Задача 1: сравнение предложений"
   ]
  },
  {
   "cell_type": "code",
   "execution_count": 15,
   "metadata": {},
   "outputs": [],
   "source": [
    "catsFile = open('7-11.sentences.txt', 'r')"
   ]
  },
  {
   "cell_type": "code",
   "execution_count": 16,
   "metadata": {},
   "outputs": [],
   "source": [
    "catsText = catsFile.read().lower().split('\\n')"
   ]
  },
  {
   "cell_type": "code",
   "execution_count": 17,
   "metadata": {},
   "outputs": [
    {
     "data": {
      "text/plain": [
       "['in comparison to dogs, cats have not undergone major changes during the domestication process.',\n",
       " 'as cat simply catenates streams of bytes, it can be also used to concatenate binary files, where it will just concatenate sequence of bytes.',\n",
       " 'a common interactive use of cat for a single file is to output the content of a file to standard output.',\n",
       " 'cats can hear sounds too faint or too high in frequency for human ears, such as those made by mice and other small animals.',\n",
       " 'in one, people deliberately tamed cats in a process of artificial selection, as they were useful predators of vermin.',\n",
       " 'the domesticated cat and its closest wild ancestor are both diploid organisms that possess 38 chromosomes and roughly 20,000 genes.',\n",
       " 'domestic cats are similar in size to the other members of the genus felis, typically weighing between 4 and 5 kg (8.8 and 11.0 lb).',\n",
       " 'however, if the output is piped or redirected, cat is unnecessary.',\n",
       " 'cat with one named file is safer where human error is a concern - one wrong use of the default redirection symbol \">\" instead of \"<\" (often adjacent on keyboards) may permanently delete the file you were just needing to read.',\n",
       " 'in terms of legibility, a sequence of commands starting with cat and connected by pipes has a clear left-to-right flow of information.',\n",
       " 'cat command is one of the basic commands that you learned when you started in the unix / linux world.',\n",
       " 'using cat command, the lines received from stdin can be redirected to a new file using redirection symbols.',\n",
       " 'when you type simply cat command without any arguments, it just receives the stdin content and displays it in the stdout.',\n",
       " 'leopard was released on october 26, 2007 as the successor of tiger (version 10.4), and is available in two editions.',\n",
       " 'according to apple, leopard contains over 300 changes and enhancements over its predecessor, mac os x tiger.',\n",
       " 'as of mid 2010, some apple computers have firmware factory installed which will no longer allow installation of mac os x leopard.',\n",
       " 'since apple moved to using intel processors in their computers, the osx86 community has developed and now also allows mac os x tiger and later releases to be installed on non-apple x86-based computers.',\n",
       " \"os x mountain lion was released on july 25, 2012 for purchase and download through apple's mac app store, as part of a switch to releasing os x versions online and every year.\",\n",
       " 'apple has released a small patch for the three most recent versions of safari running on os x yosemite, mavericks, and mountain lion.',\n",
       " 'the mountain lion release marks the second time apple has offered an incremental upgrade, rather than releasing a new cat entirely.',\n",
       " \"mac os x mountain lion installs in place, so you won't need to create a separate disk or run the installation off an external drive.\",\n",
       " \"the fifth major update to mac os x, leopard, contains such a mountain of features - more than 300 by apple's count.\"]"
      ]
     },
     "execution_count": 17,
     "metadata": {},
     "output_type": "execute_result"
    }
   ],
   "source": [
    "catsText"
   ]
  },
  {
   "cell_type": "code",
   "execution_count": 53,
   "metadata": {},
   "outputs": [],
   "source": [
    "catsToken = [] # Строки с разделением на слова\n",
    "wordDic =  dict() # Словарь частот вхождения слов\n",
    "import re\n",
    "for sent in catsText:\n",
    "    tmpStr = re.split('[^a-z]', sent) # Разбиваем на слова, без символов\n",
    "    #strKey = [key for key in tmp if key] # Очичаем массив от пустых элементов\n",
    "    strKey = []\n",
    "    for key in tmpStr:\n",
    "        if key: \n",
    "            strKey.append(key)\n",
    "            wordDic.setdefault(key) # Формируем словарь\n",
    "    catsToken.append(strKey)\n",
    "#catsToken "
   ]
  },
  {
   "cell_type": "code",
   "execution_count": 54,
   "metadata": {},
   "outputs": [],
   "source": [
    "index = 0\n",
    "for key in wordDic: # Проставляем индекс у каждого слова\n",
    "    wordDic[key] = index\n",
    "    index += 1\n",
    "\n",
    "#wordDic   "
   ]
  },
  {
   "cell_type": "code",
   "execution_count": 63,
   "metadata": {},
   "outputs": [
    {
     "data": {
      "text/plain": [
       "(22L, 254L)"
      ]
     },
     "execution_count": 63,
     "metadata": {},
     "output_type": "execute_result"
    }
   ],
   "source": [
    "import numpy as np"
   ]
  },
  {
   "cell_type": "code",
   "execution_count": 77,
   "metadata": {},
   "outputs": [],
   "source": [
    "wordInclude = np.zeros((len(catsText),len(wordDic))) # Массив размерностью строк и числа встреченных слов\n",
    "wordInclude.shape\n",
    "sentInd = 0\n",
    "for sent in catsToken:    \n",
    "    for word in sent:\n",
    "        wordInclude[sentInd][wordDic[word]] += 1\n",
    "    sentInd += 1\n"
   ]
  },
  {
   "cell_type": "code",
   "execution_count": 78,
   "metadata": {},
   "outputs": [
    {
     "data": {
      "text/plain": [
       "[0.0,\n",
       " 0.9527544408738466,\n",
       " 0.8644738145642124,\n",
       " 0.8951715163278082,\n",
       " 0.7770887149698589,\n",
       " 0.9402385695332803,\n",
       " 0.7327387580875756,\n",
       " 0.9258750683338899,\n",
       " 0.8842724875284311,\n",
       " 0.9055088817476932,\n",
       " 0.8328165362273942,\n",
       " 0.8804771390665607,\n",
       " 0.8396432548525454,\n",
       " 0.8703592552895671,\n",
       " 0.8740118423302576,\n",
       " 0.9442721787424647,\n",
       " 0.8406361854220809,\n",
       " 0.956644501523794,\n",
       " 0.9442721787424647,\n",
       " 0.8885443574849294,\n",
       " 0.8427572744917122,\n",
       " 0.8250364469440588]"
      ]
     },
     "execution_count": 78,
     "metadata": {},
     "output_type": "execute_result"
    }
   ],
   "source": [
    "# Находим косинусное расстояние от первой строки\n",
    "import scipy.spatial\n",
    "dists = []\n",
    "for row in wordInclude:\n",
    "    dists.append(scipy.spatial.distance.cosine(wordInclude[0,:], row))\n",
    "dists "
   ]
  },
  {
   "cell_type": "code",
   "execution_count": 132,
   "metadata": {},
   "outputs": [
    {
     "name": "stdout",
     "output_type": "stream",
     "text": [
      "6 0.7327387580875756 4 0.7770887149698589\n"
     ]
    }
   ],
   "source": [
    "i = 0\n",
    "min1 = 1\n",
    "min2 = 1\n",
    "i1 = 0\n",
    "i2 = 0\n",
    "for value in dists: # Ищем минимальных два индекса, ближайших и их значнеия\n",
    "    if (value != 0.) & (value < min1):\n",
    "        min2 = min1\n",
    "        min1 = value\n",
    "        i2 = i1\n",
    "        i1 = i\n",
    "    i +=1\n",
    "print i1, min1, i2, min2"
   ]
  },
  {
   "cell_type": "code",
   "execution_count": 143,
   "metadata": {},
   "outputs": [
    {
     "data": {
      "image/png": "[encoded data removed]",
      "text/plain": [
       "<Figure size 432x288 with 1 Axes>"
      ]
     },
     "metadata": {},
     "output_type": "display_data"
    }
   ],
   "source": [
    "# Задача 2. Аппроксимация функции\n",
    "%matplotlib inline\n",
    "from matplotlib import pylab as plt\n",
    "# Рассмотрим сложную математическую функцию на отрезке [1, 15]:\n",
    "# f(x) = sin(x / 5) * exp(x / 10) + 5 * exp(-x / 2)\n",
    "import math\n",
    "def f(x):\n",
    "    x = float(x)\n",
    "    return math.sin(x / 5) * math.exp(x / 10) + 5 * math.exp(-x / 2)\n",
    "x = np.arange(1,15,0.1)\n",
    "plt.plot(x,[f(v) for v in x])\n",
    "plt.show()"
   ]
  },
  {
   "cell_type": "code",
   "execution_count": 244,
   "metadata": {},
   "outputs": [],
   "source": [
    "# Многочлен первого порядка для  1 и 15\n",
    "# w0 + w1 * 1\n",
    "# w0 + w1 * 15\n",
    "def matrix(x):\n",
    "    res = []\n",
    "    for w in x:\n",
    "        i = 0\n",
    "        equal = []\n",
    "        while i < len(x):\n",
    "            equal.append(1 * w ** i)\n",
    "            i += 1        \n",
    "        res.append(equal)\n",
    "    return np.array(res)\n",
    "    "
   ]
  },
  {
   "cell_type": "code",
   "execution_count": 231,
   "metadata": {
    "scrolled": true
   },
   "outputs": [
    {
     "name": "stdout",
     "output_type": "stream",
     "text": [
      "Многочлен\n",
      "[[ 1  1]\n",
      " [ 1 15]]\n",
      "Вектор результатов [3.25221687 0.63522142]\n",
      "Вектор решения [ 3.43914511 -0.18692825]\n"
     ]
    }
   ],
   "source": [
    "# Точки\n",
    "x1 = np.array([1,15])\n",
    "# Многчлен\n",
    "A1 = matrix(x1)\n",
    "print 'Многочлен\\n', A1\n",
    "# вектор результатов\n",
    "b1 = np.array([f(1), f(15)])\n",
    "print 'Вектор результатов', b1\n",
    "w1 = np.linalg.solve(A1, b1)\n",
    "print 'Вектор решения', w1"
   ]
  },
  {
   "cell_type": "code",
   "execution_count": 232,
   "metadata": {
    "scrolled": true
   },
   "outputs": [
    {
     "name": "stdout",
     "output_type": "stream",
     "text": [
      "Сопоставляем результаты w1[0] + w1[1] * x = f(x), для x=1 3.2522 3.2522\n",
      "Сопоставляем результаты w1[0] + w1[1] * x = f(x), для x=15 0.6352 0.6352\n"
     ]
    }
   ],
   "source": [
    "# Рекусивная функция вычисления значения матричного линейного уравнения\n",
    "# w - матрица\n",
    "# x - значение для которого осуществляется вычисление\n",
    "# i - итерация, 0 по умолчанию\n",
    "\n",
    "def matrixLinearEquation(w,x,i=0): \n",
    "    res = w[i] * x ** i\n",
    "    i += 1\n",
    "    if(i < len(w)):\n",
    "        res += matrixLinearEquation(w,x,i)\n",
    "    return res \n",
    "\n",
    "print 'Сопоставляем результаты w1[0] + w1[1] * x = f(x), для x=1', round(matrixLinearEquation(w1,1),4), round(f(1),4)\n",
    "print 'Сопоставляем результаты w1[0] + w1[1] * x = f(x), для x=15', round(matrixLinearEquation(w1,15),4),  round(f(15),4)"
   ]
  },
  {
   "cell_type": "code",
   "execution_count": 245,
   "metadata": {},
   "outputs": [],
   "source": [
    "# Рисуем матрицу для значений 1-15,\n",
    "# с функцией расчета многочлена matrixLinearEquation, \n",
    "# f(x) и массивом x для контрольного расчета\n",
    "# w - матрица\n",
    "\n",
    "def plot1_15 (w):   # Матрица w\n",
    "    x_1 = np.arange(1,15,0.1) \n",
    "    plt.plot(x_1,[matrixLinearEquation(w,v) for v in x_1],'-r', label='matrix')\n",
    "    plt.plot(x_1,[f(v) for v in x_1],'-b', label='f(x)')\n",
    "    plt.show()"
   ]
  },
  {
   "cell_type": "code",
   "execution_count": 246,
   "metadata": {},
   "outputs": [
    {
     "data": {
      "image/png": "[encoded data removed]",
      "text/plain": [
       "<Figure size 432x288 with 1 Axes>"
      ]
     },
     "metadata": {},
     "output_type": "display_data"
    }
   ],
   "source": [
    " plot1_15 (w1)# Проверяем"
   ]
  },
  {
   "cell_type": "code",
   "execution_count": 251,
   "metadata": {},
   "outputs": [
    {
     "name": "stdout",
     "output_type": "stream",
     "text": [
      "Многочлен w2[0] + w2[1] * x +  w2[2] * x **2\n",
      "[[  1   1   1]\n",
      " [  1   8  64]\n",
      " [  1  15 225]] для [1, 8, 15]\n",
      "Вектор результатов [3.25221687 2.31617016 0.63522142] для [1, 8, 15]\n",
      "Вектор решения [ 3.32512949 -0.06531159 -0.00760104]\n",
      "Сопоставляем результаты многчлена и f(x), для x=1 3.2522 3.2522\n",
      "Сопоставляем результаты многчлена и f(x), для x=8 2.3162 2.3162\n",
      "Сопоставляем результаты многчлена и f(x), для x=15 0.6352 0.6352\n"
     ]
    },
    {
     "data": {
      "image/png": "[encoded data removed]",
      "text/plain": [
       "<Figure size 432x288 with 1 Axes>"
      ]
     },
     "metadata": {},
     "output_type": "display_data"
    }
   ],
   "source": [
    "# Многчлен 1,8,15\n",
    "x2 = [1,8,15]\n",
    "# Многчлен\n",
    "A2 = matrix(x2)\n",
    "print 'Многочлен w2[0] + w2[1] * x +  w2[2] * x **2'\n",
    "print A2, 'для', x2\n",
    "# вектор результатов\n",
    "b2= np.array([f(x) for x in x2])\n",
    "print 'Вектор результатов',  b2,'для', x2\n",
    "w2 = np.linalg.solve(A2, b2)\n",
    "print 'Вектор решения', w2\n",
    "print 'Сопоставляем результаты многчлена и f(x), для x=1', round(matrixLinearEquation(w2,1),4), round(f(1),4)\n",
    "print 'Сопоставляем результаты многчлена и f(x), для x=8', round(matrixLinearEquation(w2,8),4), round(f(8),4)\n",
    "print 'Сопоставляем результаты многчлена и f(x), для x=15', round(matrixLinearEquation(w2,15),4),  round(f(15),4)\n",
    "plot1_15 (w2)# Проверяем"
   ]
  },
  {
   "cell_type": "code",
   "execution_count": 254,
   "metadata": {},
   "outputs": [
    {
     "name": "stdout",
     "output_type": "stream",
     "text": [
      "Многочлен w3[0] + w3[1] * x +  w3[2] * x **2 + w3[3] * x ** 3\n",
      "[[   1    1    1    1]\n",
      " [   1    4   16   64]\n",
      " [   1   10  100 1000]\n",
      " [   1   15  225 3375]] для [1, 4, 10, 15]\n",
      "Вектор результатов [3.25221687 1.74684595 2.50541641 0.63522142] для [1, 4, 10, 15]\n",
      "Вектор решения [ 4.36264154 -1.29552587  0.19333685 -0.00823565]\n",
      "Сопоставляем результаты многчлена и f(x), для x=1 3.25 3.25\n",
      "Сопоставляем результаты многчлена и f(x), для x=4 1.75 1.75\n",
      "Сопоставляем результаты многчлена и f(x), для x=10 2.51 2.51\n",
      "Сопоставляем результаты многчлена и f(x), для x=15 0.64 0.64\n"
     ]
    },
    {
     "data": {
      "image/png": "[encoded data removed]",
      "text/plain": [
       "<Figure size 432x288 with 1 Axes>"
      ]
     },
     "metadata": {},
     "output_type": "display_data"
    }
   ],
   "source": [
    "# Многчлен 1,4,10,15\n",
    "x3 = [1,4,10,15]\n",
    "# Многчлен\n",
    "A3 = matrix(x3)\n",
    "print 'Многочлен w3[0] + w3[1] * x +  w3[2] * x **2 + w3[3] * x ** 3'\n",
    "print A3, 'для', x3\n",
    "# вектор результатов\n",
    "b3= np.array([f(x) for x in x3])\n",
    "print 'Вектор результатов',  b3,'для', x3\n",
    "w3 = np.linalg.solve(A3, b3)\n",
    "print 'Вектор решения', w3\n",
    "print 'Сопоставляем результаты многчлена и f(x), для x=1', round(matrixLinearEquation(w3,1),2), round(f(1),2)\n",
    "print 'Сопоставляем результаты многчлена и f(x), для x=4', round(matrixLinearEquation(w3,4),2), round(f(4),2)\n",
    "print 'Сопоставляем результаты многчлена и f(x), для x=10', round(matrixLinearEquation(w3,10),2), round(f(10),2)\n",
    "print 'Сопоставляем результаты многчлена и f(x), для x=15', round(matrixLinearEquation(w3,15),2),  round(f(15),2)\n",
    "plot1_15 (w3)# Проверяем"
   ]
  },
  {
   "cell_type": "code",
   "execution_count": null,
   "metadata": {},
   "outputs": [],
   "source": []
  }
 ],
 "metadata": {
  "kernelspec": {
   "display_name": "Python 2",
   "language": "python",
   "name": "python2"
  },
  "language_info": {
   "codemirror_mode": {
    "name": "ipython",
    "version": 2
   },
   "file_extension": ".py",
   "mimetype": "text/x-python",
   "name": "python",
   "nbconvert_exporter": "python",
   "pygments_lexer": "ipython2",
   "version": "2.7.15"
  }
 },
 "nbformat": 4,
 "nbformat_minor": 2
}
