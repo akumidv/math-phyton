{
 "cells": [
  {
   "cell_type": "code",
   "execution_count": 1,
   "metadata": {},
   "outputs": [],
   "source": [
    "import numpy as np"
   ]
  },
  {
   "cell_type": "code",
   "execution_count": 12,
   "metadata": {},
   "outputs": [
    {
     "name": "stdout",
     "output_type": "stream",
     "text": [
      "[2 3]\n",
      "Ранг 1 Размеры (2L,) Размерность 1\n",
      "[[2 3]\n",
      " [2 4]]\n",
      "Ранг 2 Размеры (2L, 2L) Размерность 2\n",
      "Провреяем, что есть решение. Ранг расширенной матрицы должен быть равен рангу матрицы (чтобы было решение хотя бы одно): False\n"
     ]
    }
   ],
   "source": [
    "## Задание 2. колько решений у следующей системы линейных уравнений?  2x=3, 2x=4\n",
    "# Если ранг расширенной матрицы равен рангу матрицы - хотя бы одно решение существует. \n",
    "# Если ранг расширенной матрицы больше - решения не существет \n",
    "v1 = np.array([2,3])\n",
    "v2 = np.array([[2, 3], [2,4]])\n",
    "print v1\n",
    "print 'Ранг', np.linalg.matrix_rank(v1), 'Размеры', v1.shape, 'Размерность', v1.ndim\n",
    "print v2 \n",
    "print  'Ранг', np.linalg.matrix_rank(v2),  'Размеры', v2.shape, 'Размерность', v2.ndim\n",
    "print 'Провреяем, что есть решение. Ранг расширенной матрицы должен быть равен рангу матрицы (чтобы было решение хотя бы одно):', np.linalg.matrix_rank(v1) == np.linalg.matrix_rank(v2)"
   ]
  },
  {
   "cell_type": "code",
   "execution_count": 25,
   "metadata": {},
   "outputs": [
    {
     "name": "stdout",
     "output_type": "stream",
     "text": [
      "[[1 1]\n",
      " [1 2]]\n",
      "Ранг матрицы 2 Размеры (2L, 2L) Размерность 2\n",
      "[[1 1 2]\n",
      " [1 2 3]]\n",
      "Ранг расширенной 2 Размеры (2L, 3L) Размерность 2\n",
      "Провреяем, что есть решение. Ранг расширенной матрицы должен быть равен рангу матрицы True\n",
      "Решение одно, если ранг матрицы равен размеру вектора незивестных (кол-ву элементов для в строке): True\n"
     ]
    }
   ],
   "source": [
    "## Задание 3. Сколько решений у следующей системы линейных уравнений? x + y = 2 , x + 2y = 3\n",
    "# см. про возмжность решений выше\n",
    "# Если ранг матрицы равен числу неизвестных (размеру вектора неизвестных) - то решение одно\n",
    "# Если ранг матрицы меньше числа неизвестных (размера вектора неизвестных - т.е. строки) - то решений бексконечное множество\n",
    "v3 = np.array([[1,1], [1,2]])\n",
    "v4 = np.array([[1,1,2], [1,2,3]])\n",
    "\n",
    "print v3\n",
    "print 'Ранг матрицы', np.linalg.matrix_rank(v3), 'Размеры', v3.shape, 'Размерность', v3.ndim\n",
    "print v4 \n",
    "print  'Ранг расширенной', np.linalg.matrix_rank(v4),  'Размеры', v4.shape, 'Размерность', v4.ndim\n",
    "print 'Провреяем, что есть решение. Ранг расширенной матрицы должен быть равен рангу матрицы', np.linalg.matrix_rank(v3) == np.linalg.matrix_rank(v4)\n",
    "if(np.linalg.matrix_rank(v3) == np.linalg.matrix_rank(v4)):\n",
    "    print 'Решение одно, если ранг матрицы равен размеру вектора незивестных (кол-ву элементов для в строке):', np.linalg.matrix_rank(v3) == len(v3[0])"
   ]
  },
  {
   "cell_type": "code",
   "execution_count": null,
   "metadata": {},
   "outputs": [],
   "source": []
  }
 ],
 "metadata": {
  "kernelspec": {
   "display_name": "Python 2",
   "language": "python",
   "name": "python2"
  },
  "language_info": {
   "codemirror_mode": {
    "name": "ipython",
    "version": 2
   },
   "file_extension": ".py",
   "mimetype": "text/x-python",
   "name": "python",
   "nbconvert_exporter": "python",
   "pygments_lexer": "ipython2",
   "version": "2.7.15"
  }
 },
 "nbformat": 4,
 "nbformat_minor": 2
}
