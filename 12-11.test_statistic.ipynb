{
 "cells": [
  {
   "cell_type": "code",
   "execution_count": 17,
   "metadata": {
    "scrolled": true
   },
   "outputs": [],
   "source": [
    "## Для продвижения вашего продукта рекламный отдел предлагает использовать новый видеоролик. \n",
    "# На фокус-группе вы показываете 40 испытуемым новый и старый видеоролики и спрашиваете, какой из них им нравится больше; \n",
    "# 62.5% испытуемых выбирают новый. Используя центральную предельную теорему и правило двух сигм, постройте 95% доверительный \n",
    "# интервал для доли членов целевой аудитории, предпочитающих новый видеоролик. Выберите вывод, соответствующий построенному \n",
    "# интервалу.\n",
    "\n",
    "import numpy as np\n",
    "import pandas as pd\n",
    "import math\n",
    "import matplotlib.pyplot as plt\n",
    "import scipy.stats as sts\n",
    "%matplotlib inline\n",
    "\n"
   ]
  },
  {
   "cell_type": "code",
   "execution_count": 18,
   "metadata": {},
   "outputs": [
    {
     "name": "stdout",
     "output_type": "stream",
     "text": [
      "[1.0, 3.0, 4.5, 4.5, 3.375]\n",
      "p(3) 0.18473675547622792 округляем 0.18\n"
     ]
    }
   ],
   "source": [
    "## Задание 2\n",
    "# Предположим, что вы получаете в среднем три спам-письма в день. Какова доля дней, в которые вы получаете пять или \n",
    "# больше спам-писем? Округлите до двух знаков после десятичной точки.\n",
    "import math\n",
    "l = 3\n",
    "kmax = 5\n",
    "\n",
    "sumArr = [l ** k / math.factorial(k) for k in np.arange(0.,5.,1)]\n",
    "print sumArr\n",
    "sum = 0\n",
    "for k in sumArr:\n",
    "    sum += k\n",
    "\n",
    "p = 1 - math.exp(-l) *  sum\n",
    "print 'p(3)', p, 'округляем', round(p, 2)"
   ]
  },
  {
   "cell_type": "code",
   "execution_count": null,
   "metadata": {},
   "outputs": [],
   "source": []
  }
 ],
 "metadata": {
  "kernelspec": {
   "display_name": "Python 2",
   "language": "python",
   "name": "python2"
  },
  "language_info": {
   "codemirror_mode": {
    "name": "ipython",
    "version": 2
   },
   "file_extension": ".py",
   "mimetype": "text/x-python",
   "name": "python",
   "nbconvert_exporter": "python",
   "pygments_lexer": "ipython2",
   "version": "2.7.15"
  }
 },
 "nbformat": 4,
 "nbformat_minor": 2
}
