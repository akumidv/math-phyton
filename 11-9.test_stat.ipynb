{
 "cells": [
  {
   "cell_type": "code",
   "execution_count": 2,
   "metadata": {},
   "outputs": [
    {
     "name": "stdout",
     "output_type": "stream",
     "text": [
      "Вопрос 1: 0.4\n"
     ]
    }
   ],
   "source": [
    "## Тестирование\n",
    "# Задание 2\n",
    "# Предположим, что в некоторой популяции до 60 лет доживает 50%, а до 80 лет — 20%. \n",
    "# Какова вероятность (от 0 до 1), что случайно выбранный шестидесятилетний представитель популяции доживёт до восьмидесяти? \n",
    "A = 0.2\n",
    "B = 0.5\n",
    "\n",
    "print 'Вопрос 1:', A/B # P(A|B) = P(AB)/P(B), для случа вероятности P(AB) = PA"
   ]
  },
  {
   "cell_type": "code",
   "execution_count": 54,
   "metadata": {},
   "outputs": [
    {
     "name": "stdout",
     "output_type": "stream",
     "text": [
      "Верный диагноз из обследованных - неверно решение 72.3\n",
      "\n",
      "Диагностируют заболевание, у % 0.8\n",
      "Неправильно диагностируют, у % 9.504\n",
      "Всего положительных результатов маммограммы, % 10.304\n",
      "Из них имею заболевание 7.8\n"
     ]
    }
   ],
   "source": [
    "## 1% женщин больны раком груди. У 80% женщин, больных раком груди, маммограмма верно выявляет наличие заболевания; \n",
    "# кроме того, она даёт ложный положительный результат (то есть, неверно показывает наличие рака) для 9.6% здоровых женщин. \n",
    "# У какого процента женщин, маммограмма которых дала положительный результат, есть рак груди?\n",
    "# Запишите ответ с точностью до одного знака после десятичной точки (знак процента не нужен).\n",
    "\n",
    "A1 = 0.01\n",
    "B1 = 0.8\n",
    "C1 = 0.096\n",
    "print 'Верный диагноз из обследованных - неверно решение', round((B1 - B1*C1) * 100, 1) \n",
    "# НЕВЕРНО - т.к. в постановке подвход - не 9,6% от 80%,\n",
    "# а 9,6 от 100% обследованных из 100% обследовакнных 1% реально больны и у 80% от них выявляется заболевание\n",
    "# Читаем теорему Байеса https://basegroup.ru/system/files/blogposts_files/alex-arustamov/bayes-theorem.pdf\n",
    "Dt = A1 * B1 # Даигностируют заболевание\n",
    "Df = (1 - A1) * C1 # Ложно дигностируют\n",
    "Dall = Dt + Df\n",
    "\n",
    "print\n",
    "print 'Диагностируют заболевание, у %', Dt * 100\n",
    "print 'Неправильно диагностируют, у %', Df * 100\n",
    "print 'Всего положительных результатов маммограммы, %', Dall * 100\n",
    "print 'Из них имею заболевание,%', round(Dt / Dall * 100, 1)"
   ]
  },
  {
   "cell_type": "code",
   "execution_count": 28,
   "metadata": {},
   "outputs": [
    {
     "name": "stdout",
     "output_type": "stream",
     "text": [
      "Выпаден хотя бы на одном, больше трех P(A + B) = P(A) + P(B) − P(AB) 0.75\n"
     ]
    }
   ],
   "source": [
    "## Какова вероятность того, что при независимом подбрасывании двух симметричных шестигранных кубиков хотя \n",
    "# бы на одном из них выпадет больше трёх очков? Запишите точный ответ в виде десятичной дроби.\n",
    "A2 = 0.5 # На одном кубике, вероятность выпадения 1/6, больше трех 0,5 \n",
    "print 'Выпаден хотя бы на одном, больше трех P(A + B) = P(A) + P(B) − P(AB)', A2 + A2 - A2*A2"
   ]
  },
  {
   "cell_type": "code",
   "execution_count": 83,
   "metadata": {},
   "outputs": [
    {
     "name": "stdout",
     "output_type": "stream",
     "text": [
      "Синих среди содержащих жемчуг 0.12\n",
      "Синих, среди не содержащих жемчуг 0.06\n",
      "Всего синих яиц 0.18\n",
      "Вероятность синего, содержащего жемчуг - вероятность синих с жемчугом, ко всем синим"
     ]
    },
    {
     "data": {
      "text/plain": [
       "0.6666666666666666"
      ]
     },
     "execution_count": 83,
     "metadata": {},
     "output_type": "execute_result"
    },
    {
     "name": "stdout",
     "output_type": "stream",
     "text": [
      "\n"
     ]
    }
   ],
   "source": [
    "## Доп. разбираему теорему байеса https://basegroup.ru/system/files/blogposts_files/alex-arustamov/bayes-theorem.pdf\n",
    "# задача про жемчуг\n",
    "# бочка содержит множество маленьких пластиковых яиц. Некоторые из них окрашены в красный, а\n",
    "# некоторые в синий. 40% яиц содержат жемчужины, а 60% пусты. 30% яиц, содержащих жемчуг,\n",
    "# окрашены в синий цвет, и 10% пустых яиц также синие. Какова вероятность того, что синее яйцо\n",
    "# содержит жемчуг?\n",
    "pZh = 0.4 # p(жемчуг)\n",
    "pnZh = 0.6 # p(~жемчуг ) не жемчуг \n",
    "pBlZh = 0.3 # p(синее|жемчуг)\n",
    "pBlnZh = 0.1 # p(синее|~жемчуг) синее| не жемчуг\n",
    "\n",
    "# ищем p(жемчуг|синее)\n",
    "print 'Синих среди содержащих жемчуг', pZh * pBlZh\n",
    "print 'Синих, среди не содержащих жемчуг', pnZh * pBlnZh\n",
    "print 'Всего синих яиц', pZh * pBlZh + pnZh * pBlnZh\n",
    "print 'Вероятность синего, содержащего жемчуг - вероятность синих с жемчугом, ко всем синим', \n",
    "pZh * pBlZh/(pZh * pBlZh + pnZh * pBlnZh)\n",
    "#pZhBl"
   ]
  },
  {
   "cell_type": "code",
   "execution_count": 84,
   "metadata": {},
   "outputs": [
    {
     "data": {
      "image/png": "[encoded data removed]",
      "text/plain": [
       "<Figure size 432x288 with 1 Axes>"
      ]
     },
     "metadata": {},
     "output_type": "display_data"
    }
   ],
   "source": [
    "%matplotlib inline\n",
    "import numpy as np\n",
    "from matplotlib import pylab as plt\n",
    "zhArray = np.arange(0.,pZh * 100,1)\n",
    "pZhArray = np.array([10 for i in np.zeros((int(pZh * 100)))])\n",
    "nZhArray = np.arange(pZh * 100,100.,1)\n",
    "pnZhArray = np.array([10 for i in np.zeros((int(100 - pZh * 100)))])            \n",
    "plt.plot(zhArray, pZhArray, 'y')\n",
    "plt.plot(nZhArray, pnZhArray, 'g')\n",
    "\n",
    "BlzhArray = np.arange(0.,pBlZh * 100 * 2,1)\n",
    "pBlZhArray = np.array([4 for i in np.zeros((int(pBlZh * 100 * 2)))])\n",
    "nBlZhArray = np.arange(pBlZh * 100 * 2, (pBlZh * 100  + pBlnZh * 100) *2,1)\n",
    "pnBlZhArray = np.array([4 for i in np.zeros((int(pBlnZh * 100 * 2)))])            \n",
    "plt.plot(BlzhArray, pBlZhArray, 'p')\n",
    "plt.plot(nBlZhArray, pnBlZhArray, 'b')\n",
    "plt.plot([pZh * 100, pBlZh * 100 *2], [10, 4], 'r')\n",
    "plt.show()"
   ]
  },
  {
   "cell_type": "code",
   "execution_count": 85,
   "metadata": {},
   "outputs": [
    {
     "data": {
      "image/png": "[encoded data removed]",
      "text/plain": [
       "<Figure size 432x288 with 1 Axes>"
      ]
     },
     "metadata": {},
     "output_type": "display_data"
    }
   ],
   "source": [
    "pZh = 0.1\n",
    "zhArray = np.arange(0.,pZh * 100,1)\n",
    "pZhArray = np.array([10 for i in np.zeros((int(pZh * 100)))])\n",
    "nZhArray = np.arange(pZh * 100,100.,1)\n",
    "pnZhArray = np.array([10 for i in np.zeros((int(100 - pZh * 100)))])            \n",
    "plt.plot(zhArray, pZhArray, 'y')\n",
    "plt.plot(nZhArray, pnZhArray, 'g')\n",
    "\n",
    "BlzhArray = np.arange(0.,pBlZh * 100 * 2,1)\n",
    "pBlZhArray = np.array([4 for i in np.zeros((int(pBlZh * 100 * 2)))])\n",
    "nBlZhArray = np.arange(pBlZh * 100 * 2, (pBlZh * 100  + pBlnZh * 100) *2,1)\n",
    "pnBlZhArray = np.array([4 for i in np.zeros((int(pBlnZh * 100 * 2)))])            \n",
    "plt.plot(BlzhArray, pBlZhArray, 'p')\n",
    "plt.plot(nBlZhArray, pnBlZhArray, 'b')\n",
    "plt.plot([pZh * 100, pBlZh * 100 *2], [10, 4], 'r')\n",
    "plt.show()"
   ]
  },
  {
   "cell_type": "code",
   "execution_count": null,
   "metadata": {},
   "outputs": [],
   "source": []
  },
  {
   "cell_type": "code",
   "execution_count": null,
   "metadata": {},
   "outputs": [],
   "source": []
  }
 ],
 "metadata": {
  "kernelspec": {
   "display_name": "Python 2",
   "language": "python",
   "name": "python2"
  },
  "language_info": {
   "codemirror_mode": {
    "name": "ipython",
    "version": 2
   },
   "file_extension": ".py",
   "mimetype": "text/x-python",
   "name": "python",
   "nbconvert_exporter": "python",
   "pygments_lexer": "ipython2",
   "version": "2.7.15"
  }
 },
 "nbformat": 4,
 "nbformat_minor": 2
}
